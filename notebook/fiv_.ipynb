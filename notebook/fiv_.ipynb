{
 "cells": [
  {
   "cell_type": "markdown",
   "id": "39a05a8e-b585-41ed-9f66-bb407f41e2cf",
   "metadata": {},
   "source": [
    "# **GENERATING NETCDF OUTPUTS** #\n",
    "\n",
    "#### Objective: ####\n",
    "+ Create [NetCDF](https://unidata.github.io/netcdf4-python/#netCDF4) files <span style=\"color:RoyalBlue\">*almost?*</span> fully-complaint with [CF](https://cfconventions.org/) [conventions](https://cfconventions.org/Data/cf-conventions/cf-conventions-1.10/cf-conventions.html)\n",
    "\n",
    "---"
   ]
  },
  {
   "cell_type": "code",
   "execution_count": 188,
   "id": "d90150d1-203b-4f9f-8a16-dc21787436a8",
   "metadata": {},
   "outputs": [],
   "source": [
    "import netCDF4 as nc4\n",
    "import numpy as np"
   ]
  },
  {
   "cell_type": "code",
   "execution_count": 33,
   "id": "5d92ac85-9b6e-4802-9f59-62043d1b1ab2",
   "metadata": {},
   "outputs": [],
   "source": [
    "# help function\n",
    "\n",
    "#~ CUSTOM.ROUNDING TO SPECIFIC.BASE ~~~~~~~~~~~~~~~~~~~~~~~~~~~~~~~~~~~~~~~~~~~#\n",
    "#~~~~~~~~~~~~~~~~~~~~~~~~~~~~~~~~~~~~~~~~~~~~~~~~~~~~~~~~~~~~~~~~~~~~~~~~~~~~~~#\n",
    "# # https://stackoverflow.com/a/18666678/5885810\n",
    "def ROUNDX(x, prec=3, base=PRECISION):\n",
    "    return (base * (np.array(x) / base).round()).round(prec)"
   ]
  },
  {
   "cell_type": "code",
   "execution_count": 2,
   "id": "13413f40-2ca8-4416-a8ef-431aab305e05",
   "metadata": {},
   "outputs": [
    {
     "name": "stdout",
     "output_type": "stream",
     "text": [
      "<class 'netCDF4._netCDF4.Dataset'>\n",
      "root group (NETCDF4 data model, file format HDF5):\n",
      "    dimensions(sizes): x(408), y(470)\n",
      "    variables(dimensions): float64 x(x), float64 y(y), int32 xomethin(), float32 rain(y, x), uint8 mask(y, x)\n",
      "    groups: \n"
     ]
    }
   ],
   "source": [
    "nc_file = 'for_wrong-1.nc'\n",
    "\n",
    "data = nc4.Dataset( nc_file )\n",
    "\n",
    "print( data)"
   ]
  },
  {
   "cell_type": "code",
   "execution_count": 5,
   "id": "2e155ea8-bdfb-4848-945a-d682d635b440",
   "metadata": {},
   "outputs": [
    {
     "data": {
      "text/plain": [
       "masked_array(\n",
       "  data=[[  8.85314465,  12.18742561,  12.00609589, ...,  19.86124039,\n",
       "          21.57285881,  22.31961441],\n",
       "        [ 11.41961765,  12.11657238,  11.99657345, ...,  21.30685425,\n",
       "          22.31961441,  22.31961441],\n",
       "        [ 11.08961964,  12.00933456,  11.87809658, ...,  21.30685425,\n",
       "          22.31961441,  22.31961441],\n",
       "        ...,\n",
       "        [461.05093384, 461.05093384, 462.56283569, ..., 530.9977417 ,\n",
       "         516.53491211, 516.53491211],\n",
       "        [472.34197998, 472.34197998, 470.32394409, ..., 530.9977417 ,\n",
       "         516.53491211, 516.53491211],\n",
       "        [459.64810181, 459.64810181, 462.9229126 , ..., 527.46783447,\n",
       "         526.47857666, 526.47857666]],\n",
       "  mask=False,\n",
       "  fill_value=1e+20)"
      ]
     },
     "execution_count": 5,
     "metadata": {},
     "output_type": "execute_result"
    }
   ],
   "source": [
    "data['rain']\n",
    "data['rain'][:]\n"
   ]
  },
  {
   "cell_type": "code",
   "execution_count": 10,
   "id": "9e1c9891-c698-4255-bf75-97aa983aeedb",
   "metadata": {},
   "outputs": [
    {
     "name": "stdout",
     "output_type": "stream",
     "text": [
      "8.853144645690918\n",
      "1527.81982421875\n"
     ]
    }
   ],
   "source": [
    "print( data['rain'][:].min() )\n",
    "print( data['rain'][:].max() )"
   ]
  },
  {
   "cell_type": "code",
   "execution_count": 193,
   "id": "1ef58462-5d24-4c32-8c70-a3021719522f",
   "metadata": {},
   "outputs": [],
   "source": [
    "\n",
    "# OGC-WKT for HAD [taken from https://epsg.io/42106]\n",
    "WKT_OGC = 'PROJCS[\"WGS84_/_Lambert_Azim_Mozambique\",'\\\n",
    "    'GEOGCS[\"unknown\",'\\\n",
    "        'DATUM[\"unknown\",'\\\n",
    "            'SPHEROID[\"Normal Sphere (r=6370997)\",6370997,0]],'\\\n",
    "        'PRIMEM[\"Greenwich\",0,'\\\n",
    "            'AUTHORITY[\"EPSG\",\"8901\"]],'\\\n",
    "        'UNIT[\"degree\",0.0174532925199433,'\\\n",
    "            'AUTHORITY[\"EPSG\",\"9122\"]]],'\\\n",
    "    'PROJECTION[\"Lambert_Azimuthal_Equal_Area\"],'\\\n",
    "    'PARAMETER[\"latitude_of_center\",5],'\\\n",
    "    'PARAMETER[\"longitude_of_center\",20],'\\\n",
    "    'PARAMETER[\"false_easting\",0],'\\\n",
    "    'PARAMETER[\"false_northing\",0],'\\\n",
    "    'UNIT[\"metre\",1,'\\\n",
    "        'AUTHORITY[\"EPSG\",\"9001\"]],'\\\n",
    "    'AXIS[\"Easting\",EAST],'\\\n",
    "    'AXIS[\"Northing\",NORTH],'\\\n",
    "    'AUTHORITY[\"EPSG\",\"42106\"]]'\n",
    "\n",
    "DATE_ORIGIN    = '1970-01-01'                       # to store dates as INT\n",
    "TIME_ZONE      = 'Africa/Addis_Ababa'               # Local Time Zone (see links below for more names)\n",
    "\n",
    "# RAINFMT = 'f4'\n",
    "RAINFMT = 'u2'                          # 'u' for UNSIGNED.INT  ||  'i' for SIGNED.INT  ||  'f' for FLOAT\n",
    "                                        # number of Bytes (1, 2, 4 or 8) to store the RAINFALL variable (into)\n",
    "TIMEINT = 'u4'                          # format for integers in TIME dimension\n",
    "TIMEFIL = +(2**( int(TIMEINT[-1]) *8 )) -1\n",
    "\n",
    "PRECISION = 0.025\n",
    "iMIN = 8."
   ]
  },
  {
   "cell_type": "code",
   "execution_count": 108,
   "id": "690329e6-3cb2-415d-aa00-f81e7d5b3277",
   "metadata": {},
   "outputs": [
    {
     "name": "stdout",
     "output_type": "stream",
     "text": [
      "1\n",
      "65535\n"
     ]
    }
   ],
   "source": [
    "INTEGER = int( RAINFMT[-1] )\n",
    "\n",
    "# # if one wants signed integers (e.g.)...\n",
    "#     MINIMUM = -(2**(INTEGER *8 -1))       # -->     -32768  (smallest  signed integer of 16 Bits)\n",
    "#     MAXIMUM = +(2**(INTEGER *8 -1)-1)     # -->     +32767  (largest   signed integer of 16 Bits)\n",
    "\n",
    "# # if one wants un-signed integers (e.g.)...\n",
    "MINIMUM = 1                             # -->          1  (1 because you need 0 for filling)\n",
    "MAXIMUM = +(2**( INTEGER *8 )) -1       # -->      65535  (largest unsigned integer of 16 Bits -> 0 also counts)\n",
    "# MAXIMUM = +(2**( 32 )) -1             # --> 4294967296  (largest unsigned integer of 32 Bits)\n",
    "\n",
    "print( MINIMUM )\n",
    "print( MAXIMUM )"
   ]
  },
  {
   "cell_type": "markdown",
   "id": "a0e0b449-c154-49db-8d58-cfe0c2e03280",
   "metadata": {},
   "source": [
    "find precision... having previously established limits"
   ]
  },
  {
   "cell_type": "code",
   "execution_count": 119,
   "id": "6bc8f1a0-f021-4ff4-873a-1d14757dee5c",
   "metadata": {},
   "outputs": [
    {
     "name": "stdout",
     "output_type": "stream",
     "text": [
      "starting from 8.0, you'd need a max. of ~3284 to guarantee an epsilon of 0.05\n",
      "starting from 8.0, you'd need a max. of ~1973 to guarantee an epsilon of 0.03\n",
      "starting from 8.0, you'd need a max. of ~1646 to guarantee an epsilon of 0.025\n",
      "starting from 8.0, you'd need a max. of ~1318 to guarantee an epsilon of 0.02\n",
      "starting from 8.0, you'd need a max. of ~663 to guarantee an epsilon of 0.01\n"
     ]
    }
   ],
   "source": [
    "# run your own (customized) tests\n",
    "temp = 3.14159\n",
    "seed = 4000 # -> a bit more than the maximum of RAIN data\n",
    "# epsn = 0.05\n",
    "epsilon = [0.05, 0.03, 0.025, 0.02, 0.01]\n",
    "\n",
    "for epsn in epsilon:\n",
    "    while temp > epsn:\n",
    "        temp = (seed -iMIN) / (MAXIMUM -MINIMUM -1)\n",
    "        seed = seed - 1\n",
    "    # print(seed)\n",
    "    \n",
    "    print( (f'starting from {iMIN}, you\\'d need a max. of ~{seed+1} to guarantee an epsilon of {epsn}') )\n"
   ]
  },
  {
   "cell_type": "code",
   "execution_count": 100,
   "id": "b091f20b-f3b5-479c-bdf2-eb44781c8b58",
   "metadata": {},
   "outputs": [],
   "source": [
    "\n",
    "\n"
   ]
  },
  {
   "cell_type": "code",
   "execution_count": 120,
   "id": "50967897-4238-4705-afb3-fa678d835c42",
   "metadata": {},
   "outputs": [
    {
     "name": "stdout",
     "output_type": "stream",
     "text": [
      "iMAX = 1646.325\n",
      "0.025\n",
      "7.975\n"
     ]
    }
   ],
   "source": [
    "#~ TO SCALE 'DOWN' FLOATS TO INTEGERS ~~~~~~~~~~~~~~~~~~~~~~~~~~~~~~~~~~~~~~~~~#\n",
    "#~~~~~~~~~~~~~~~~~~~~~~~~~~~~~~~~~~~~~~~~~~~~~~~~~~~~~~~~~~~~~~~~~~~~~~~~~~~~~~#\n",
    "\n",
    "# NORMALIZING THE RAINFALL SO IT CAN BE STORED AS 16-BIT INTEGER (65,536 -> unsigned)\n",
    "# https://stackoverflow.com/a/59193141/5885810      (scaling 'integers')\n",
    "# https://stats.stackexchange.com/a/70808/354951    (normalize data 0-1)\n",
    "\n",
    "# if you want a larger precision (or your variable is in the 'low' scale,\n",
    "# ...say Summer Temperatures in Celsius) you must/could lower this limit.\n",
    "iMAX = PRECISION *(MAXIMUM -MINIMUM -1) +iMIN\n",
    "print( f'iMAX = {iMAX}' )\n",
    "# 131.070 -> for MINIMUM==0\n",
    "# 131.068 -> for MINIMUM==1\n",
    "\n",
    "# SCALING FACTOR:\n",
    "SCL = (iMAX - iMIN) / ( MAXIMUM -MINIMUM -1)   # -1 because 0 doesn't count\n",
    "\n",
    "# ADDITIVE FACTOR:\n",
    "# ADD = iMAX - SCL *MAXIMUM\n",
    "ADD = iMIN - SCL *MINIMUM\n",
    "\n",
    "print( SCL )\n",
    "print( ADD )"
   ]
  },
  {
   "cell_type": "code",
   "execution_count": 102,
   "id": "5d68bca0-74d3-4a4d-8dde-578102f7189a",
   "metadata": {},
   "outputs": [
    {
     "name": "stdout",
     "output_type": "stream",
     "text": [
      "(65534,)\n",
      "1646.325\n",
      "True\n",
      "(array([], dtype=int64),)\n",
      "[   8.       8.025    8.05  ... 1646.275 1646.3   1646.325]\n"
     ]
    }
   ],
   "source": [
    "\n",
    "# testing\n",
    "allv = PRECISION *(np.linspace(MINIMUM, MAXIMUM-1, MAXIMUM-1) -1) +iMIN\n",
    "# allv = np.arange(iMIN, iMAX +PRECISION, PRECISION)\n",
    "print( allv.shape )\n",
    "# Out[22]: (65534,)\n",
    "\n",
    "print( allv[-1] )\n",
    "print( allv[-1] == iMAX )\n",
    "# Out[22]: True\n",
    "\n",
    "allt = ((allv - ADD) /SCL)\n",
    "allt = allt.round(0).astype('u2')\n",
    "print( np.where( np.diff(allt)!=1 ) )\n",
    "# Out[22]: (array([], dtype=int64),)\n",
    "\n",
    "vall = (allt *SCL) +ADD\n",
    "vall = ROUNDX( (allt *SCL) +ADD )\n",
    "print( vall )\n"
   ]
  },
  {
   "cell_type": "code",
   "execution_count": 145,
   "id": "49df3217-8778-44e8-822a-3530dc0549a9",
   "metadata": {},
   "outputs": [
    {
     "name": "stdout",
     "output_type": "stream",
     "text": [
      "408\n",
      "408\n"
     ]
    }
   ],
   "source": [
    "\n",
    "\n",
    "print( len( data.dimensions['x'] ) )\n",
    "print( len( data['x'] ) )\n",
    "\n"
   ]
  },
  {
   "cell_type": "code",
   "execution_count": 134,
   "id": "cfd9b27b-b95c-4ac1-95fd-1cb2a501bd80",
   "metadata": {},
   "outputs": [
    {
     "data": {
      "text/plain": [
       "array([1347500., 1352500., 1357500., 1362500., 1367500., 1372500.,\n",
       "       1377500., 1382500., 1387500.])"
      ]
     },
     "execution_count": 134,
     "metadata": {},
     "output_type": "execute_result"
    }
   ],
   "source": [
    "\n",
    "data['x'][1:10]\n",
    "data['x'][1:10].data"
   ]
  },
  {
   "cell_type": "code",
   "execution_count": 148,
   "id": "8d65ec67-f45b-4c7c-976d-6c268add1216",
   "metadata": {},
   "outputs": [
    {
     "data": {
      "text/plain": [
       "array([[1., 1., 1., ..., 0., 0., 0.],\n",
       "       [1., 1., 1., ..., 0., 0., 0.],\n",
       "       [1., 1., 1., ..., 0., 0., 0.],\n",
       "       ...,\n",
       "       [1., 1., 1., ..., 0., 0., 0.],\n",
       "       [1., 1., 1., ..., 0., 0., 0.],\n",
       "       [1., 1., 1., ..., 0., 0., 0.]])"
      ]
     },
     "execution_count": 148,
     "metadata": {},
     "output_type": "execute_result"
    }
   ],
   "source": [
    "\n",
    "data['mask'][:].data"
   ]
  },
  {
   "cell_type": "code",
   "execution_count": 137,
   "id": "9e020d71-e825-4130-b007-75d37bbc5652",
   "metadata": {},
   "outputs": [],
   "source": [
    "\n",
    "import xarray as xr\n"
   ]
  },
  {
   "cell_type": "code",
   "execution_count": 163,
   "id": "5adb238f-7d0b-4c88-92e7-c1bb5351409b",
   "metadata": {},
   "outputs": [],
   "source": [
    "\n",
    "import rioxarray as rio\n",
    "\n",
    "from zoneinfo import ZoneInfo\n",
    "from datetime import datetime, timezone#, timedelta\n",
    "from dateutil.tz import tzlocal\n"
   ]
  },
  {
   "cell_type": "code",
   "execution_count": 141,
   "id": "51a4a6c4-9a3b-4536-a7b9-42d3eb17bd09",
   "metadata": {},
   "outputs": [
    {
     "name": "stdout",
     "output_type": "stream",
     "text": [
      "<xarray.DataArray (y: 470, x: 408)>\n",
      "array([[nan, nan, nan, ..., nan, nan, nan],\n",
      "       [nan, nan, nan, ..., nan, nan, nan],\n",
      "       [nan, nan, nan, ..., nan, nan, nan],\n",
      "       ...,\n",
      "       [nan, nan, nan, ..., nan, nan, nan],\n",
      "       [nan, nan, nan, ..., nan, nan, nan],\n",
      "       [nan, nan, nan, ..., nan, nan, nan]])\n",
      "Coordinates:\n",
      "  * y            (y) float64 1.168e+06 1.162e+06 ... -1.172e+06 -1.178e+06\n",
      "  * x            (x) float64 1.342e+06 1.348e+06 ... 3.372e+06 3.378e+06\n",
      "    spatial_ref  int32 0\n",
      "Attributes:\n",
      "    _FillValue:  nan\n",
      "    units:       mm\n",
      "PROJCS[\"WGS84_/_Lambert_Azim_Mozambique\",GEOGCS[\"unknown\",DATUM[\"unknown\",SPHEROID[\"Normal Sphere (r=6370997)\",6370997,0]],PRIMEM[\"Greenwich\",0],UNIT[\"degree\",0.0174532925199433]],PROJECTION[\"Lambert_Azimuthal_Equal_Area\"],PARAMETER[\"latitude_of_center\",5],PARAMETER[\"longitude_of_center\",20],PARAMETER[\"false_easting\",0],PARAMETER[\"false_northing\",0],UNIT[\"metre\",1],AXIS[\"Easting\",EAST],AXIS[\"Northing\",NORTH],AUTHORITY[\"EPSG\",\"42106\"]]\n",
      "1340000.0 5000.0 0.0 1170000.0 0.0 -5000.0\n"
     ]
    }
   ],
   "source": [
    "\n",
    "# create VOID data\n",
    "\n",
    "void = np.empty( (len( data.dimensions['y'] ), len( data.dimensions['x'] )) )\n",
    "void.fill(np.nan)\n",
    "\n",
    "# create xarray\n",
    "xoid = xr.DataArray(data=void, dims=['y', 'x']#, name='void'\n",
    "    , coords=dict(y=(['y'], data['y'][:].data), x=(['x'], data['x'][:].data), )\n",
    "    , attrs=dict(_FillValue=np.nan, units='mm', ),\n",
    "    )\n",
    "xoid.rio.write_crs(rio.crs.CRS( WKT_OGC ), grid_mapping_name='spatial_ref', inplace=True)\n",
    "\n",
    "print( xoid)\n",
    "print( xoid.rio.crs )\n",
    "print( ' '.join( map(str, np.roll(np.asarray(xoid.rio.transform()).reshape(3,3), shift=1, axis=1)[:-1].ravel().tolist() )) )\n"
   ]
  },
  {
   "cell_type": "code",
   "execution_count": 176,
   "id": "38664e65-467b-4e9b-bd05-c94a4d055c5a",
   "metadata": {},
   "outputs": [
    {
     "name": "stdout",
     "output_type": "stream",
     "text": [
      "2023-10-03 11:14:17.762780+01:00\n",
      "2023-10-03 11:14:17.762780+03:00\n"
     ]
    }
   ],
   "source": [
    "\n",
    "\n",
    "date_now = datetime.now(tzlocal())\n",
    "print( date_now )\n",
    "\n",
    "date_now = date_now.replace( tzinfo=ZoneInfo( TIME_ZONE ) )       \n",
    "print( date_now )\n"
   ]
  },
  {
   "cell_type": "code",
   "execution_count": 177,
   "id": "aa2c76c8-0e5c-41f6-9652-f15fe255718c",
   "metadata": {},
   "outputs": [
    {
     "name": "stdout",
     "output_type": "stream",
     "text": [
      "1970-01-01 00:00:00+03:00\n",
      "1696331657.76278\n"
     ]
    }
   ],
   "source": [
    "\n",
    "\n",
    "DATE_ORIGEN = datetime.strptime(DATE_ORIGIN, '%Y-%m-%d').replace(tzinfo=ZoneInfo( TIME_ZONE ))\n",
    "print( DATE_ORIGEN )\n",
    "\n",
    "date_sec = (date_now - DATE_ORIGEN).total_seconds()\n",
    "print( date_sec )\n"
   ]
  },
  {
   "cell_type": "code",
   "execution_count": 179,
   "id": "82999918-6e8b-4552-8f2c-7900e31ec1aa",
   "metadata": {},
   "outputs": [],
   "source": [
    "\n",
    "T_RES   =  30                           # in minutes! -> TEMPORAL.RES of TIME.SLICES\n",
    "TIME_DICT_ = dict(seconds=1 ,minutes=1/60, hours=1/60**2, days=1/(60**2*24))\n",
    "TIME_OUTNC = 'minutes'                  # UNITS (since DATE_ORIGIN) for NC.TIME dim\n"
   ]
  },
  {
   "cell_type": "code",
   "execution_count": 183,
   "id": "a944ef47-443f-4d39-9ddd-9a314f251862",
   "metadata": {},
   "outputs": [
    {
     "name": "stdout",
     "output_type": "stream",
     "text": [
      "28272194.29604633\n"
     ]
    }
   ],
   "source": [
    "\n",
    "date_min = date_sec *TIME_DICT_[ TIME_OUTNC ]\n",
    "print( date_min )\n"
   ]
  },
  {
   "cell_type": "code",
   "execution_count": 180,
   "id": "4d9b6810-5b3d-4943-9f97-6fdaa0a086a4",
   "metadata": {},
   "outputs": [],
   "source": [
    "\n",
    "#~ ROUND TIME.STAMPS to the 'T_RES' FLOOR! (or NEAREST 'T_RES') ~~~~~~~~~~~~~~~#\n",
    "#~~~~~~~~~~~~~~~~~~~~~~~~~~~~~~~~~~~~~~~~~~~~~~~~~~~~~~~~~~~~~~~~~~~~~~~~~~~~~~#\n",
    "def BASE_ROUND( stamps, base= T_RES ):\n",
    "# https://stackoverflow.com/a/2272174/5885810\n",
    "# \"*60\" because STAMPS come in seconds; and T_RES is in minutes\n",
    "    base = base *TIME_DICT_[ TIME_OUTNC ] *60\n",
    "    iround = (base *(np.ceil(stamps /base) -1))#.astype( TIMEINT )\n",
    "# # activate line below if you want to the NEAREST 'T_RES' (instead of FLOOR)\n",
    "#     iround = (base *(stamps /base).round())#.astype( TIMEINT )\n",
    "    return iround"
   ]
  },
  {
   "cell_type": "code",
   "execution_count": 185,
   "id": "8ef34314-f081-431f-ba31-4a050865842a",
   "metadata": {},
   "outputs": [
    {
     "name": "stdout",
     "output_type": "stream",
     "text": [
      "28272180.0\n"
     ]
    }
   ],
   "source": [
    "\n",
    "\n",
    "o_date_min = BASE_ROUND( date_min )\n",
    "print( o_date_min )"
   ]
  },
  {
   "cell_type": "code",
   "execution_count": 197,
   "id": "f5138794-1a80-4ed7-8ff0-80990f5149e5",
   "metadata": {},
   "outputs": [],
   "source": [
    "\n",
    "out_name = 'fiv_ok.nc'\n",
    "    \n",
    "# CREATE NC.FILE\n",
    "nc = nc4.Dataset(out_name, 'w', format='NETCDF4')\n",
    "nc.created_on = datetime.now(tzlocal()).strftime('%Y-%m-%d %H:%M:%S %Z')#%z\n",
    "\n",
    "\n",
    "# define SUB.GROUP and its dimensions\n",
    "sub_grp = nc.createGroup( 'group_one' )\n",
    "\n",
    "sub_grp.createDimension('y', len( data.dimensions['y'] ))\n",
    "sub_grp.createDimension('x', len( data.dimensions['x'] ))\n",
    "# sub_grp.createDimension('t', None)                  # unlimited\n",
    "\n",
    "sref_name = 'spatial_ref'\n",
    "\n",
    "grid = sub_grp.createVariable(sref_name, 'u1')\n",
    "grid.long_name = sref_name\n",
    "grid.crs_wkt = xoid.spatial_ref.attrs['crs_wkt']\n",
    "grid.spatial_ref = xoid.spatial_ref.attrs['crs_wkt']\n",
    "# https://www.simplilearn.com/tutorials/python-tutorial/list-to-string-in-python\n",
    "# https://www.geeksforgeeks.org/how-to-delete-last-n-rows-from-numpy-array/\n",
    "# grid.GeoTransform = ' '.join( map(str, list(xoid.rio.transform()) ) )\n",
    "# # this is apparently the \"correct\" way to store the GEOTRANSFORM!\n",
    "grid.GeoTransform = ' '.join( map(str, np.roll(np.asarray(xoid.rio.transform()).reshape(3,3),\n",
    "    shift=1, axis=1)[:-1].ravel().tolist() ))                   # [:-1] removes last row\n",
    "\n",
    "# ~~~ from CFCONVENTIONS.ORG ~~~~~~~~~~~~~~~~~~~~~~~~~~~~~~~~~~~~~~~ [start]\n",
    "grid.grid_mapping_name = 'lambert_azimuthal_equal_area'\n",
    "grid.latitude_of_projection_origin = 5\n",
    "grid.longitude_of_projection_origin = 20\n",
    "grid.false_easting = 0\n",
    "grid.false_northing = 0\n",
    "# grid.horizontal_datum_name = 'WGS84'                          # in pple this can also be un-commented!\n",
    "grid.reference_ellipsoid_name = 'sphere'\n",
    "grid.projected_crs_name = 'WGS84_/_Lambert_Azim_Mozambique'     # new in CF-1.7 [https://cfconventions.org/wkt-proj-4.html]\n",
    "# ~~~ from CFCONVENTIONS.ORG ~~~~~~~~~~~~~~~~~~~~~~~~~~~~~~~~~~~~~~~~~ [end]\n",
    "\n",
    "# ~~~ from https://publicwiki.deltares.nl/display/NETCDF/Coordinates [start]\n",
    "grid._CoordinateTransformType = 'Projection'\n",
    "grid._CoordinateAxisTypes = 'GeoY GeoX'\n",
    "# ~~~ from https://publicwiki.deltares.nl/display/NETCDF/Coordinates ~ [end]\n",
    "\n",
    "# # STORING LOCAL COORDINATES\n",
    "yy = sub_grp.createVariable('projection_y_coordinate', 'i4', dimensions=('y'))#,chunksizes=CHUNK_3D( [ len(data['y']) ], valSize=4))\n",
    "xx = sub_grp.createVariable('projection_x_coordinate', 'i4', dimensions=('x'))#,chunksizes=CHUNK_3D( [ len(data['x']) ], valSize=4))\n",
    "yy[:] = data['y'][:].data\n",
    "xx[:] = data['x'][:].data\n",
    "yy.coordinates = 'projection_y_coordinate'\n",
    "xx.coordinates = 'projection_x_coordinate'\n",
    "yy.units = 'meter'\n",
    "xx.units = 'meter'\n",
    "yy.long_name = 'y coordinate of projection'\n",
    "xx.long_name = 'x coordinate of projection'\n",
    "yy._CoordinateAxisType = 'GeoY'\n",
    "xx._CoordinateAxisType = 'GeoX'\n",
    "yy.grid_mapping = sref_name\n",
    "xx.grid_mapping = sref_name\n",
    "\n",
    "tag_y = yy.getncattr('coordinates')\n",
    "tag_x = xx.getncattr('coordinates')\n",
    "\n",
    "# store the MASK\n",
    "# mask_chunk = CHUNK_3D( [ len( data['y'] ), len( data['x'] ) ], valSize=1)\n",
    "ncmask = sub_grp.createVariable('mask', 'i1', dimensions=('y','x'), zlib=True, complevel=9)#,chunksizes=mask_chunk#,fill_value=0\n",
    "ncmask[:] = data['mask'][:].data.astype('i1')\n",
    "ncmask.grid_mapping = sref_name\n",
    "ncmask.long_name = 'catchment mask'\n",
    "ncmask.description = '1 means catchment or region : 0 is void'\n",
    "ncmask.coordinates = f'{tag_y} {tag_x}'\n",
    "\n",
    "# # if ANOTHER/OTHER variable is needed (e.g.)\n",
    "# maskxx = sub_grp.createVariable('k_means', datatype='i1', dimensions=('y','x'), dimensions=('y','x'), zlib=True, complevel=9,\n",
    "#                                 fill_value=np.array( -1 ).astype('i1'))#,chunksizes=mask_chunk#,least_significant_digit=3)\n",
    "# maskxx.grid_mapping = sref_name\n",
    "# maskxx.long_name = 'k-means clusters'\n",
    "# maskxx.description = '-1 indicates region out of any cluster'\n",
    "# maskxx.coordinates = f'{tag_y} {tag_x}'\n",
    "\n",
    "\n",
    "# define the TIME.variable/dimension\n",
    "nctnam = 'time'\n",
    "sub_grp.createDimension(nctnam, None)\n",
    "\n",
    "timexx = sub_grp.createVariable(nctnam, TIMEINT, (nctnam), fill_value=TIMEFIL)#, chunksizes=chunkt)\n",
    "timexx[:] = o_date_min.astype( TIMEINT )\n",
    "timexx.long_name = 'starting time'\n",
    "timexx.units = f\"{TIME_OUTNC} since {DATE_ORIGEN.strftime('%Y-%m-%d %H:%M:%S')}\"#'%Y-%m-%d %H:%M:%S %Z%z'\n",
    "timexx.calendar = 'proleptic_gregorian'#'gregorian'#\n",
    "timexx._CoordinateAxisType = 'Time'\n",
    "timexx.coordinates = nctnam\n",
    "\n",
    "\n",
    "if RAINFMT[0]=='f':\n",
    "#-DOING.FLOATS------------------------------------------------------------------\n",
    "    ncvarx = sub_grp.createVariable('rain', datatype=f'{RAINFMT}'\n",
    "        ,dimensions=(nctnam,'y','x'), zlib=True, complevel=9, least_significant_digit=3, fill_value=np.nan)\n",
    "    ncvarx[:] = (data['rain'][:].data).astype( f'{RAINFMT}' )\n",
    "else:\n",
    "#-DOING.INTEGERS--------------------------------------------------------------\n",
    "    ncvarx = sub_grp.createVariable('rain', datatype=f'{RAINFMT}',\n",
    "        dimensions=(nctnam,'y','x'), zlib=True, complevel=9,\n",
    "        fill_value=np.array( 0 ).astype( f'{RAINFMT}' ))#, chunksizes=chunkx,least_significant_digit=3)\n",
    "    ncvarx[0,:] = (( (data['rain'][:].data -ADD) /SCL ).round(0)).astype( f'{RAINFMT}' )\n",
    "    # ncvarx[0,:] -> ONLY FOR THIS EXERCISE\n",
    "\n",
    "ncvarx.precision = PRECISION\n",
    "ncvarx.scale_factor = SCL\n",
    "ncvarx.add_offset = ADD\n",
    "# ncvarx._FillValue = np.array( MINIMUM ).astype( f'{RAINFMT}' )\n",
    "# ncvarx._FillValue = np.array( 0 ).astype( f'{RAINFMT}' )\n",
    "ncvarx.units = 'mm'\n",
    "ncvarx.long_name = 'rainfall'\n",
    "ncvarx.grid_mapping = sref_name\n",
    "ncvarx.coordinates = f'{tag_y} {tag_x}'\n",
    "#ncvarx.coordinates = f'{yy.getncattr(\"coordinates\")} {xx.getncattr(\"coordinates\")}'\n",
    "\n",
    "nc.close()\n"
   ]
  },
  {
   "cell_type": "code",
   "execution_count": null,
   "id": "e279d321-61c2-4119-8c34-3441598b126b",
   "metadata": {},
   "outputs": [],
   "source": []
  }
 ],
 "metadata": {
  "kernelspec": {
   "display_name": "Python [conda env:prll]",
   "language": "python",
   "name": "conda-env-prll-py"
  },
  "language_info": {
   "codemirror_mode": {
    "name": "ipython",
    "version": 3
   },
   "file_extension": ".py",
   "mimetype": "text/x-python",
   "name": "python",
   "nbconvert_exporter": "python",
   "pygments_lexer": "ipython3",
   "version": "3.11.4"
  }
 },
 "nbformat": 4,
 "nbformat_minor": 5
}
